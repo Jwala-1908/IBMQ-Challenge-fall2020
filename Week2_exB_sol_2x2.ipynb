{
 "cells": [
  {
   "cell_type": "code",
   "execution_count": 1,
   "metadata": {},
   "outputs": [],
   "source": [
    "from qiskit import QuantumRegister,QuantumCircuit,ClassicalRegister\n",
    "from qiskit import execute,BasicAer\n",
    "from qiskit.visualization import plot_histogram"
   ]
  },
  {
   "cell_type": "code",
   "execution_count": 2,
   "metadata": {},
   "outputs": [],
   "source": [
    "c_eff = [[0,1,2],\n",
    "         [1,0,3],\n",
    "         [2,0,3],\n",
    "         [3,1,2]]"
   ]
  },
  {
   "cell_type": "code",
   "execution_count": 3,
   "metadata": {},
   "outputs": [],
   "source": [
    "def diffuser(nqubits):\n",
    "    quc = QuantumCircuit(nqubits)\n",
    "    # Apply transformation |s> -> |00...0> (H-gates)\n",
    "    for qubit in range(nqubits):\n",
    "        quc.h(qubit)\n",
    "    #Apply transformation |00...0> -> |11..1> (X-gates)\n",
    "    for qubit in range(nqubits):\n",
    "        quc.x(qubit)\n",
    "    # Do multicontrolled-Z gate\n",
    "    quc.h(nqubits-1)\n",
    "    quc.mct(list(range(nqubits-1)),nqubits-1)\n",
    "    quc.h(nqubits-1)\n",
    "    \n",
    "    #Apply transformation |11..1> -> |00..0>\n",
    "    for qubit in range(nqubits):\n",
    "        quc.x(qubit)\n",
    "    # Apply transformation |11...1> -> |s>\n",
    "    for qubit in range(nqubits):\n",
    "        quc.h(qubit)\n",
    "    \n",
    "    U_s = quc.to_gate()\n",
    "    U_s.name = \"Diffuser_{}\".format(nqubits)\n",
    "    return U_s"
   ]
  },
  {
   "cell_type": "code",
   "execution_count": 4,
   "metadata": {},
   "outputs": [],
   "source": [
    "lightsout4 = [[0,1,1,1],[0,0,0,0],[1,1,1,1],[0,1,1,0]]"
   ]
  },
  {
   "cell_type": "code",
   "execution_count": 5,
   "metadata": {},
   "outputs": [
    {
     "data": {
      "text/plain": [
       "<qiskit.circuit.instructionset.InstructionSet at 0x21f0bbb3748>"
      ]
     },
     "execution_count": 5,
     "metadata": {},
     "output_type": "execute_result"
    }
   ],
   "source": [
    "n = 4\n",
    "address = QuantumRegister(2,name='addr')\n",
    "tiles = QuantumRegister(n,name='tiles')\n",
    "flip = QuantumRegister(n,name='flip')\n",
    "oracle = QuantumRegister(1,name='oracle')\n",
    "ancilla = QuantumRegister(n,name='ancilla')\n",
    "classical = ClassicalRegister(4,name='out')\n",
    "# qc = QuantumCircuit(address,tiles)\n",
    "qc = QuantumCircuit(address,tiles,flip,ancilla,oracle,classical)\n",
    "qc.h(address)\n",
    "qc.h(flip)\n",
    "qc.x(oracle)\n",
    "qc.h(oracle)\n",
    "qc.barrier()\n",
    "\n",
    "# qc.draw('mpl')"
   ]
  },
  {
   "cell_type": "code",
   "execution_count": 6,
   "metadata": {
    "scrolled": true
   },
   "outputs": [],
   "source": [
    "# At address 0 -> data = 0000\n",
    "qc.x([address[0],address[1]])\n",
    "board = lightsout4[0]\n",
    "for i in range(len(board)):\n",
    "    if board[i] is 1:\n",
    "        qc.ccx(address[0],address[1],tiles[i])\n",
    "qc.x([address[0],address[1]])\n",
    "\n",
    "# At address 1 -> data = 0111\n",
    "qc.x(address[1])\n",
    "board = lightsout4[1]\n",
    "for i in range(len(board)):\n",
    "    if board[i] is 1:\n",
    "        qc.ccx(address[0],address[1],tiles[i])\n",
    "qc.x(address[1])\n",
    "\n",
    "# At address 2 ->data = 0110\n",
    "qc.x(address[0])\n",
    "board = lightsout4[2]\n",
    "for i in range(len(board)):\n",
    "    if board[i] is 1:\n",
    "        qc.ccx(address[0],address[1],tiles[i])\n",
    "qc.x(address[0])\n",
    "\n",
    "# At address 3 -> data = 1111\n",
    "board = lightsout4[3]\n",
    "for i in range(len(board)):\n",
    "    if board[i] is 1:\n",
    "        qc.ccx(address[0],address[1],tiles[i])\n",
    "# qc.draw('mpl')"
   ]
  },
  {
   "cell_type": "code",
   "execution_count": 7,
   "metadata": {},
   "outputs": [],
   "source": [
    "for ce in c_eff:\n",
    "    qc.cx(flip[ce],tiles[ce[0]])\n",
    "\n",
    "qc.x(tiles)\n",
    "qc.mct(tiles,oracle,ancilla,mode='basic')\n",
    "qc.x(tiles)\n",
    "\n",
    "for ce in c_eff:\n",
    "    qc.cx(flip[ce],tiles[ce[0]])\n",
    "\n",
    "qc.append(diffuser(n),flip)\n",
    "\n",
    "for i in range(len(flip)):\n",
    "    qc.mct([flip[i],ancilla[0],ancilla[1],ancilla[2]],ancilla[3],mode='noancilla')\n",
    "    qc.mct([flip[i],ancilla[0],ancilla[1]],ancilla[2],mode='noancilla')\n",
    "    qc.ccx(flip[i],ancilla[0],ancilla[1])\n",
    "    qc.cx(flip[i],ancilla[0])\n",
    "\n",
    "# marking the solutions which require  < 2 pushes\n",
    "qc.x([ancilla[2],ancilla[1],ancilla[3]])\n",
    "qc.mct(ancilla[1:],oracle,mode='noancilla')\n",
    "qc.x([ancilla[2],ancilla[1],ancilla[3]])\n",
    "\n",
    "\n",
    "for i in range(len(flip)):\n",
    "    qc.cx(flip[n-1-i],ancilla[0])\n",
    "    qc.ccx(flip[n-1-i],ancilla[0],ancilla[1])\n",
    "    qc.mct([flip[n-1-i],ancilla[0],ancilla[1]],ancilla[2],mode='noancilla')\n",
    "    qc.mct([flip[n-1-i],ancilla[0],ancilla[1],ancilla[2]],ancilla[3],mode='noancilla')\n",
    "\n",
    "qc.append(diffuser(n),flip)\n",
    "for ce in c_eff:\n",
    "    qc.cx(flip[ce],tiles[ce[0]])\n",
    "\n",
    "qc.x(tiles)\n",
    "qc.mct(tiles,oracle,ancilla,mode='basic')\n",
    "qc.x(tiles)\n",
    "\n",
    "for ce in c_eff:\n",
    "    qc.cx(flip[ce],tiles[ce[0]])"
   ]
  },
  {
   "cell_type": "code",
   "execution_count": 8,
   "metadata": {},
   "outputs": [
    {
     "data": {
      "image/png": "[encoded data removed]",
      "text/plain": [
       "<Figure size 504x360 with 1 Axes>"
      ]
     },
     "execution_count": 8,
     "metadata": {},
     "output_type": "execute_result"
    }
   ],
   "source": [
    "# At address 0 -> data = 0000\n",
    "qc.x([address[0],address[1]])\n",
    "board = lightsout4[0]\n",
    "for i in range(len(board)):\n",
    "    if board[i] is 1:\n",
    "        qc.ccx(address[0],address[1],tiles[i])\n",
    "qc.x([address[0],address[1]])\n",
    "\n",
    "# At address 1 -> data = 0111\n",
    "qc.x(address[1])\n",
    "board = lightsout4[1]\n",
    "for i in range(len(board)):\n",
    "    if board[i] is 1:\n",
    "        qc.ccx(address[0],address[1],tiles[i])\n",
    "qc.x(address[1])\n",
    "\n",
    "# At address 2 ->data = 0110\n",
    "qc.x(address[0])\n",
    "board = lightsout4[2]\n",
    "for i in range(len(board)):\n",
    "    if board[i] is 1:\n",
    "        qc.ccx(address[0],address[1],tiles[i])\n",
    "qc.x(address[0])\n",
    "\n",
    "# At address 3 -> data = 1111\n",
    "board = lightsout4[3]\n",
    "for i in range(len(board)):\n",
    "    if board[i] is 1:\n",
    "        qc.ccx(address[0],address[1],tiles[i])\n",
    "# qc.draw('mpl')\n",
    "\n",
    "qc.append(diffuser(2),address)\n",
    "qc.measure(address,classical[0:2])\n",
    "plot_histogram(execute(qc,backend=BasicAer.get_backend('qasm_simulator')).result().get_counts())"
   ]
  }
 ],
 "metadata": {
  "kernelspec": {
   "display_name": "Python 3",
   "language": "python",
   "name": "python3"
  },
  "language_info": {
   "codemirror_mode": {
    "name": "ipython",
    "version": 3
   },
   "file_extension": ".py",
   "mimetype": "text/x-python",
   "name": "python",
   "nbconvert_exporter": "python",
   "pygments_lexer": "ipython3",
   "version": "3.7.6"
  }
 },
 "nbformat": 4,
 "nbformat_minor": 2
}
